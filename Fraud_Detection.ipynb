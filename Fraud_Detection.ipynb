{
 "cells": [
  {
   "cell_type": "code",
   "execution_count": 1,
   "id": "d54cf050-c8d8-484d-b17c-6063878f2b86",
   "metadata": {},
   "outputs": [],
   "source": [
    "import pandas as pd\n",
    "import numpy as np\n",
    "import matplotlib.pyplot as plt\n",
    "import seaborn as sns\n",
    "import sklearn\n",
    "from sklearn.preprocessing import StandardScaler\n",
    "from sklearn.model_selection import GridSearchCV\n",
    "from sklearn.metrics import accuracy_score,confusion_matrix,f1_score,precision_score,recall_score,roc_auc_score\n",
    "from imblearn.over_sampling import SMOTE\n",
    "from feature_engine.selection import DropDuplicateFeatures, DropConstantFeatures, DropCorrelatedFeatures, RecursiveFeatureElimination\n",
    "from sklearn.decomposition import PCA"
   ]
  },
  {
   "cell_type": "code",
   "execution_count": 2,
   "id": "2d1e3d5c-a2fd-4284-bc64-90bbc334b24b",
   "metadata": {},
   "outputs": [],
   "source": [
    "train=pd.read_csv(r\"C:\\Users\\rohit\\Downloads\\train_hsbc_df.csv\")"
   ]
  },
  {
   "cell_type": "code",
   "execution_count": 3,
   "id": "2d8cc0c9-6ed1-4c46-badb-ea0629544f97",
   "metadata": {},
   "outputs": [
    {
     "data": {
      "text/html": [
       "<div>\n",
       "<style scoped>\n",
       "    .dataframe tbody tr th:only-of-type {\n",
       "        vertical-align: middle;\n",
       "    }\n",
       "\n",
       "    .dataframe tbody tr th {\n",
       "        vertical-align: top;\n",
       "    }\n",
       "\n",
       "    .dataframe thead th {\n",
       "        text-align: right;\n",
       "    }\n",
       "</style>\n",
       "<table border=\"1\" class=\"dataframe\">\n",
       "  <thead>\n",
       "    <tr style=\"text-align: right;\">\n",
       "      <th></th>\n",
       "      <th>step</th>\n",
       "      <th>customer</th>\n",
       "      <th>age</th>\n",
       "      <th>gender</th>\n",
       "      <th>zipcodeOri</th>\n",
       "      <th>merchant</th>\n",
       "      <th>zipMerchant</th>\n",
       "      <th>category</th>\n",
       "      <th>amount</th>\n",
       "      <th>fraud</th>\n",
       "    </tr>\n",
       "  </thead>\n",
       "  <tbody>\n",
       "    <tr>\n",
       "      <th>0</th>\n",
       "      <td>0</td>\n",
       "      <td>'C583110837'</td>\n",
       "      <td>'3'</td>\n",
       "      <td>'M'</td>\n",
       "      <td>'28007'</td>\n",
       "      <td>'M480139044'</td>\n",
       "      <td>'28007'</td>\n",
       "      <td>'es_health'</td>\n",
       "      <td>44.26</td>\n",
       "      <td>1</td>\n",
       "    </tr>\n",
       "    <tr>\n",
       "      <th>1</th>\n",
       "      <td>0</td>\n",
       "      <td>'C1332295774'</td>\n",
       "      <td>'3'</td>\n",
       "      <td>'M'</td>\n",
       "      <td>'28007'</td>\n",
       "      <td>'M480139044'</td>\n",
       "      <td>'28007'</td>\n",
       "      <td>'es_health'</td>\n",
       "      <td>324.50</td>\n",
       "      <td>1</td>\n",
       "    </tr>\n",
       "    <tr>\n",
       "      <th>2</th>\n",
       "      <td>0</td>\n",
       "      <td>'C1160421902'</td>\n",
       "      <td>'3'</td>\n",
       "      <td>'M'</td>\n",
       "      <td>'28007'</td>\n",
       "      <td>'M857378720'</td>\n",
       "      <td>'28007'</td>\n",
       "      <td>'es_hotelservices'</td>\n",
       "      <td>176.32</td>\n",
       "      <td>1</td>\n",
       "    </tr>\n",
       "    <tr>\n",
       "      <th>3</th>\n",
       "      <td>0</td>\n",
       "      <td>'C966214713'</td>\n",
       "      <td>'3'</td>\n",
       "      <td>'M'</td>\n",
       "      <td>'28007'</td>\n",
       "      <td>'M857378720'</td>\n",
       "      <td>'28007'</td>\n",
       "      <td>'es_hotelservices'</td>\n",
       "      <td>337.41</td>\n",
       "      <td>1</td>\n",
       "    </tr>\n",
       "    <tr>\n",
       "      <th>4</th>\n",
       "      <td>0</td>\n",
       "      <td>'C1450140987'</td>\n",
       "      <td>'4'</td>\n",
       "      <td>'F'</td>\n",
       "      <td>'28007'</td>\n",
       "      <td>'M1198415165'</td>\n",
       "      <td>'28007'</td>\n",
       "      <td>'es_wellnessandbeauty'</td>\n",
       "      <td>220.11</td>\n",
       "      <td>1</td>\n",
       "    </tr>\n",
       "  </tbody>\n",
       "</table>\n",
       "</div>"
      ],
      "text/plain": [
       "   step       customer  age gender zipcodeOri       merchant zipMerchant  \\\n",
       "0     0   'C583110837'  '3'    'M'    '28007'   'M480139044'     '28007'   \n",
       "1     0  'C1332295774'  '3'    'M'    '28007'   'M480139044'     '28007'   \n",
       "2     0  'C1160421902'  '3'    'M'    '28007'   'M857378720'     '28007'   \n",
       "3     0   'C966214713'  '3'    'M'    '28007'   'M857378720'     '28007'   \n",
       "4     0  'C1450140987'  '4'    'F'    '28007'  'M1198415165'     '28007'   \n",
       "\n",
       "                 category  amount  fraud  \n",
       "0             'es_health'   44.26      1  \n",
       "1             'es_health'  324.50      1  \n",
       "2      'es_hotelservices'  176.32      1  \n",
       "3      'es_hotelservices'  337.41      1  \n",
       "4  'es_wellnessandbeauty'  220.11      1  "
      ]
     },
     "execution_count": 3,
     "metadata": {},
     "output_type": "execute_result"
    }
   ],
   "source": [
    "train.head()"
   ]
  },
  {
   "cell_type": "markdown",
   "id": "d7d71616-1f61-43f6-b119-5332f30608a6",
   "metadata": {},
   "source": [
    "# EDA"
   ]
  },
  {
   "cell_type": "code",
   "execution_count": 4,
   "id": "23354b62-f103-4f83-a6bf-9050f49207be",
   "metadata": {},
   "outputs": [
    {
     "data": {
      "text/plain": [
       "(513643, 10)"
      ]
     },
     "execution_count": 4,
     "metadata": {},
     "output_type": "execute_result"
    }
   ],
   "source": [
    "train.shape"
   ]
  },
  {
   "cell_type": "code",
   "execution_count": 5,
   "id": "ee4f6adf-f455-4736-a896-888540278af6",
   "metadata": {},
   "outputs": [
    {
     "name": "stdout",
     "output_type": "stream",
     "text": [
      "<class 'pandas.core.frame.DataFrame'>\n",
      "RangeIndex: 513643 entries, 0 to 513642\n",
      "Data columns (total 10 columns):\n",
      " #   Column       Non-Null Count   Dtype  \n",
      "---  ------       --------------   -----  \n",
      " 0   step         513643 non-null  int64  \n",
      " 1   customer     513643 non-null  object \n",
      " 2   age          513643 non-null  object \n",
      " 3   gender       513643 non-null  object \n",
      " 4   zipcodeOri   513643 non-null  object \n",
      " 5   merchant     513643 non-null  object \n",
      " 6   zipMerchant  513643 non-null  object \n",
      " 7   category     513643 non-null  object \n",
      " 8   amount       513643 non-null  float64\n",
      " 9   fraud        513643 non-null  int64  \n",
      "dtypes: float64(1), int64(2), object(7)\n",
      "memory usage: 39.2+ MB\n"
     ]
    }
   ],
   "source": [
    "train.info()"
   ]
  },
  {
   "cell_type": "code",
   "execution_count": 6,
   "id": "06eb2752-f685-4127-a548-f344d8dc09ae",
   "metadata": {},
   "outputs": [
    {
     "data": {
      "text/html": [
       "<div>\n",
       "<style scoped>\n",
       "    .dataframe tbody tr th:only-of-type {\n",
       "        vertical-align: middle;\n",
       "    }\n",
       "\n",
       "    .dataframe tbody tr th {\n",
       "        vertical-align: top;\n",
       "    }\n",
       "\n",
       "    .dataframe thead th {\n",
       "        text-align: right;\n",
       "    }\n",
       "</style>\n",
       "<table border=\"1\" class=\"dataframe\">\n",
       "  <thead>\n",
       "    <tr style=\"text-align: right;\">\n",
       "      <th></th>\n",
       "      <th>step</th>\n",
       "      <th>amount</th>\n",
       "      <th>fraud</th>\n",
       "    </tr>\n",
       "  </thead>\n",
       "  <tbody>\n",
       "    <tr>\n",
       "      <th>count</th>\n",
       "      <td>513643.000000</td>\n",
       "      <td>513643.000000</td>\n",
       "      <td>513643.000000</td>\n",
       "    </tr>\n",
       "    <tr>\n",
       "      <th>mean</th>\n",
       "      <td>94.992629</td>\n",
       "      <td>37.915481</td>\n",
       "      <td>0.012071</td>\n",
       "    </tr>\n",
       "    <tr>\n",
       "      <th>std</th>\n",
       "      <td>51.063474</td>\n",
       "      <td>111.557455</td>\n",
       "      <td>0.109201</td>\n",
       "    </tr>\n",
       "    <tr>\n",
       "      <th>min</th>\n",
       "      <td>0.000000</td>\n",
       "      <td>0.000000</td>\n",
       "      <td>0.000000</td>\n",
       "    </tr>\n",
       "    <tr>\n",
       "      <th>25%</th>\n",
       "      <td>52.000000</td>\n",
       "      <td>13.740000</td>\n",
       "      <td>0.000000</td>\n",
       "    </tr>\n",
       "    <tr>\n",
       "      <th>50%</th>\n",
       "      <td>97.000000</td>\n",
       "      <td>26.920000</td>\n",
       "      <td>0.000000</td>\n",
       "    </tr>\n",
       "    <tr>\n",
       "      <th>75%</th>\n",
       "      <td>139.000000</td>\n",
       "      <td>42.550000</td>\n",
       "      <td>0.000000</td>\n",
       "    </tr>\n",
       "    <tr>\n",
       "      <th>max</th>\n",
       "      <td>179.000000</td>\n",
       "      <td>7665.560000</td>\n",
       "      <td>1.000000</td>\n",
       "    </tr>\n",
       "  </tbody>\n",
       "</table>\n",
       "</div>"
      ],
      "text/plain": [
       "                step         amount          fraud\n",
       "count  513643.000000  513643.000000  513643.000000\n",
       "mean       94.992629      37.915481       0.012071\n",
       "std        51.063474     111.557455       0.109201\n",
       "min         0.000000       0.000000       0.000000\n",
       "25%        52.000000      13.740000       0.000000\n",
       "50%        97.000000      26.920000       0.000000\n",
       "75%       139.000000      42.550000       0.000000\n",
       "max       179.000000    7665.560000       1.000000"
      ]
     },
     "execution_count": 6,
     "metadata": {},
     "output_type": "execute_result"
    }
   ],
   "source": [
    "train.describe()"
   ]
  },
  {
   "cell_type": "code",
   "execution_count": 7,
   "id": "5e8527cc-5483-4960-a2f3-7be9eb09a867",
   "metadata": {},
   "outputs": [
    {
     "data": {
      "text/plain": [
       "fraud\n",
       "0    507443\n",
       "1      6200\n",
       "Name: count, dtype: int64"
      ]
     },
     "execution_count": 7,
     "metadata": {},
     "output_type": "execute_result"
    }
   ],
   "source": [
    "train[\"fraud\"].value_counts()"
   ]
  },
  {
   "cell_type": "code",
   "execution_count": 8,
   "id": "c6844253-cd8e-48bb-9dca-7cfc6bf3ec5c",
   "metadata": {},
   "outputs": [
    {
     "data": {
      "text/plain": [
       "step             180\n",
       "customer        4112\n",
       "age                8\n",
       "gender             4\n",
       "zipcodeOri         1\n",
       "merchant          50\n",
       "zipMerchant        1\n",
       "category          15\n",
       "amount         22348\n",
       "fraud              2\n",
       "dtype: int64"
      ]
     },
     "execution_count": 8,
     "metadata": {},
     "output_type": "execute_result"
    }
   ],
   "source": [
    "train.nunique()"
   ]
  },
  {
   "cell_type": "code",
   "execution_count": 9,
   "id": "0775d3fe-f738-49bc-8c58-3cc017968615",
   "metadata": {},
   "outputs": [
    {
     "data": {
      "text/plain": [
       "step           0\n",
       "customer       0\n",
       "age            0\n",
       "gender         0\n",
       "zipcodeOri     0\n",
       "merchant       0\n",
       "zipMerchant    0\n",
       "category       0\n",
       "amount         0\n",
       "fraud          0\n",
       "dtype: int64"
      ]
     },
     "execution_count": 9,
     "metadata": {},
     "output_type": "execute_result"
    }
   ],
   "source": [
    "train.isnull().sum()"
   ]
  },
  {
   "cell_type": "code",
   "execution_count": 10,
   "id": "c5a9bfb8-b649-4ff2-ba66-46ca769ea4f5",
   "metadata": {},
   "outputs": [],
   "source": [
    "categorical_cols = [var for var in train.columns if train[var].dtype=='O']"
   ]
  },
  {
   "cell_type": "code",
   "execution_count": 11,
   "id": "268ffd39-fc91-472f-bc63-d29eb76bc3dc",
   "metadata": {},
   "outputs": [],
   "source": [
    "numerical_cols = [var for var in train.columns if train[var].dtype!='O']"
   ]
  },
  {
   "cell_type": "code",
   "execution_count": 12,
   "id": "27a66e76-14ae-4232-8fc2-de4b094df8d1",
   "metadata": {},
   "outputs": [
    {
     "data": {
      "text/plain": [
       "['customer',\n",
       " 'age',\n",
       " 'gender',\n",
       " 'zipcodeOri',\n",
       " 'merchant',\n",
       " 'zipMerchant',\n",
       " 'category']"
      ]
     },
     "execution_count": 12,
     "metadata": {},
     "output_type": "execute_result"
    }
   ],
   "source": [
    "categorical_cols"
   ]
  },
  {
   "cell_type": "code",
   "execution_count": 13,
   "id": "8610d661-fb00-43da-b7dc-19c874f51536",
   "metadata": {},
   "outputs": [
    {
     "data": {
      "text/plain": [
       "['step', 'amount', 'fraud']"
      ]
     },
     "execution_count": 13,
     "metadata": {},
     "output_type": "execute_result"
    }
   ],
   "source": [
    "numerical_cols"
   ]
  },
  {
   "cell_type": "markdown",
   "id": "da245639-609e-4911-85f2-b3a79c256b7c",
   "metadata": {},
   "source": [
    "## Analysis till now\n",
    "\n",
    "7 categorical cols & 3 numerical cols(including target)\n",
    "\n",
    "No missing data"
   ]
  },
  {
   "cell_type": "markdown",
   "id": "d96afb84-9340-4a32-82cb-9a0839308d4b",
   "metadata": {},
   "source": [
    "### Analysis of categoricall columns"
   ]
  },
  {
   "cell_type": "code",
   "execution_count": 14,
   "id": "b1cafbd6-4e47-4204-9591-01a644ac3931",
   "metadata": {},
   "outputs": [
    {
     "data": {
      "text/html": [
       "<div>\n",
       "<style scoped>\n",
       "    .dataframe tbody tr th:only-of-type {\n",
       "        vertical-align: middle;\n",
       "    }\n",
       "\n",
       "    .dataframe tbody tr th {\n",
       "        vertical-align: top;\n",
       "    }\n",
       "\n",
       "    .dataframe thead th {\n",
       "        text-align: right;\n",
       "    }\n",
       "</style>\n",
       "<table border=\"1\" class=\"dataframe\">\n",
       "  <thead>\n",
       "    <tr style=\"text-align: right;\">\n",
       "      <th></th>\n",
       "      <th>customer</th>\n",
       "      <th>age</th>\n",
       "      <th>gender</th>\n",
       "      <th>zipcodeOri</th>\n",
       "      <th>merchant</th>\n",
       "      <th>zipMerchant</th>\n",
       "      <th>category</th>\n",
       "    </tr>\n",
       "  </thead>\n",
       "  <tbody>\n",
       "    <tr>\n",
       "      <th>0</th>\n",
       "      <td>'C583110837'</td>\n",
       "      <td>'3'</td>\n",
       "      <td>'M'</td>\n",
       "      <td>'28007'</td>\n",
       "      <td>'M480139044'</td>\n",
       "      <td>'28007'</td>\n",
       "      <td>'es_health'</td>\n",
       "    </tr>\n",
       "    <tr>\n",
       "      <th>1</th>\n",
       "      <td>'C1332295774'</td>\n",
       "      <td>'3'</td>\n",
       "      <td>'M'</td>\n",
       "      <td>'28007'</td>\n",
       "      <td>'M480139044'</td>\n",
       "      <td>'28007'</td>\n",
       "      <td>'es_health'</td>\n",
       "    </tr>\n",
       "    <tr>\n",
       "      <th>2</th>\n",
       "      <td>'C1160421902'</td>\n",
       "      <td>'3'</td>\n",
       "      <td>'M'</td>\n",
       "      <td>'28007'</td>\n",
       "      <td>'M857378720'</td>\n",
       "      <td>'28007'</td>\n",
       "      <td>'es_hotelservices'</td>\n",
       "    </tr>\n",
       "    <tr>\n",
       "      <th>3</th>\n",
       "      <td>'C966214713'</td>\n",
       "      <td>'3'</td>\n",
       "      <td>'M'</td>\n",
       "      <td>'28007'</td>\n",
       "      <td>'M857378720'</td>\n",
       "      <td>'28007'</td>\n",
       "      <td>'es_hotelservices'</td>\n",
       "    </tr>\n",
       "    <tr>\n",
       "      <th>4</th>\n",
       "      <td>'C1450140987'</td>\n",
       "      <td>'4'</td>\n",
       "      <td>'F'</td>\n",
       "      <td>'28007'</td>\n",
       "      <td>'M1198415165'</td>\n",
       "      <td>'28007'</td>\n",
       "      <td>'es_wellnessandbeauty'</td>\n",
       "    </tr>\n",
       "  </tbody>\n",
       "</table>\n",
       "</div>"
      ],
      "text/plain": [
       "        customer  age gender zipcodeOri       merchant zipMerchant  \\\n",
       "0   'C583110837'  '3'    'M'    '28007'   'M480139044'     '28007'   \n",
       "1  'C1332295774'  '3'    'M'    '28007'   'M480139044'     '28007'   \n",
       "2  'C1160421902'  '3'    'M'    '28007'   'M857378720'     '28007'   \n",
       "3   'C966214713'  '3'    'M'    '28007'   'M857378720'     '28007'   \n",
       "4  'C1450140987'  '4'    'F'    '28007'  'M1198415165'     '28007'   \n",
       "\n",
       "                 category  \n",
       "0             'es_health'  \n",
       "1             'es_health'  \n",
       "2      'es_hotelservices'  \n",
       "3      'es_hotelservices'  \n",
       "4  'es_wellnessandbeauty'  "
      ]
     },
     "execution_count": 14,
     "metadata": {},
     "output_type": "execute_result"
    }
   ],
   "source": [
    "train[categorical_cols].head()"
   ]
  },
  {
   "cell_type": "code",
   "execution_count": 15,
   "id": "82f4fd15-6fe3-4ccf-8572-b350ac1fbf61",
   "metadata": {},
   "outputs": [
    {
     "data": {
      "text/html": [
       "<div>\n",
       "<style scoped>\n",
       "    .dataframe tbody tr th:only-of-type {\n",
       "        vertical-align: middle;\n",
       "    }\n",
       "\n",
       "    .dataframe tbody tr th {\n",
       "        vertical-align: top;\n",
       "    }\n",
       "\n",
       "    .dataframe thead th {\n",
       "        text-align: right;\n",
       "    }\n",
       "</style>\n",
       "<table border=\"1\" class=\"dataframe\">\n",
       "  <thead>\n",
       "    <tr style=\"text-align: right;\">\n",
       "      <th></th>\n",
       "      <th>step</th>\n",
       "      <th>amount</th>\n",
       "      <th>fraud</th>\n",
       "    </tr>\n",
       "  </thead>\n",
       "  <tbody>\n",
       "    <tr>\n",
       "      <th>0</th>\n",
       "      <td>0</td>\n",
       "      <td>44.26</td>\n",
       "      <td>1</td>\n",
       "    </tr>\n",
       "    <tr>\n",
       "      <th>1</th>\n",
       "      <td>0</td>\n",
       "      <td>324.50</td>\n",
       "      <td>1</td>\n",
       "    </tr>\n",
       "    <tr>\n",
       "      <th>2</th>\n",
       "      <td>0</td>\n",
       "      <td>176.32</td>\n",
       "      <td>1</td>\n",
       "    </tr>\n",
       "    <tr>\n",
       "      <th>3</th>\n",
       "      <td>0</td>\n",
       "      <td>337.41</td>\n",
       "      <td>1</td>\n",
       "    </tr>\n",
       "    <tr>\n",
       "      <th>4</th>\n",
       "      <td>0</td>\n",
       "      <td>220.11</td>\n",
       "      <td>1</td>\n",
       "    </tr>\n",
       "  </tbody>\n",
       "</table>\n",
       "</div>"
      ],
      "text/plain": [
       "   step  amount  fraud\n",
       "0     0   44.26      1\n",
       "1     0  324.50      1\n",
       "2     0  176.32      1\n",
       "3     0  337.41      1\n",
       "4     0  220.11      1"
      ]
     },
     "execution_count": 15,
     "metadata": {},
     "output_type": "execute_result"
    }
   ],
   "source": [
    "train[numerical_cols].head()"
   ]
  },
  {
   "cell_type": "code",
   "execution_count": 16,
   "id": "94c210cc-4d52-4d59-8c34-fe4529737f75",
   "metadata": {},
   "outputs": [],
   "source": [
    "for i in range(len(train)):\n",
    "    if train[\"merchant\"][i][1]!=\"M\":\n",
    "        print(train[\"merchant\"][i])"
   ]
  },
  {
   "cell_type": "code",
   "execution_count": 17,
   "id": "68e1ac27-a12c-4309-a0f5-4c9062801714",
   "metadata": {},
   "outputs": [],
   "source": [
    "for i in range(len(train)):\n",
    "    if train[\"customer\"][i][1]!=\"C\":\n",
    "        print(train[\"customer\"][i])"
   ]
  },
  {
   "cell_type": "markdown",
   "id": "b42b272b-2b5f-493b-95d3-a93c2cbb2a8b",
   "metadata": {},
   "source": [
    "##### Every merchant row starts with M and every customer row starts with C"
   ]
  },
  {
   "cell_type": "code",
   "execution_count": 18,
   "id": "a19301c9-486a-4ee9-ad41-d447d090c1fa",
   "metadata": {},
   "outputs": [
    {
     "data": {
      "text/plain": [
       "zipcodeOri\n",
       "'28007'    513643\n",
       "Name: count, dtype: int64"
      ]
     },
     "execution_count": 18,
     "metadata": {},
     "output_type": "execute_result"
    }
   ],
   "source": [
    "train[\"zipcodeOri\"].value_counts()"
   ]
  },
  {
   "cell_type": "code",
   "execution_count": 19,
   "id": "3608806b-65cc-4ce0-b65b-60df2dbcd38f",
   "metadata": {},
   "outputs": [
    {
     "data": {
      "text/plain": [
       "zipMerchant\n",
       "'28007'    513643\n",
       "Name: count, dtype: int64"
      ]
     },
     "execution_count": 19,
     "metadata": {},
     "output_type": "execute_result"
    }
   ],
   "source": [
    "train[\"zipMerchant\"].value_counts()"
   ]
  },
  {
   "cell_type": "markdown",
   "id": "1d451d11-d46b-4bbb-b57a-8d62d73039c7",
   "metadata": {},
   "source": [
    "##### zipcodeOri and zipMerchant same rows(28007)"
   ]
  },
  {
   "cell_type": "code",
   "execution_count": 20,
   "id": "92ecfec8-df5f-47ea-a37e-165b51a56bcd",
   "metadata": {},
   "outputs": [
    {
     "data": {
      "text/plain": [
       "gender\n",
       "'F'    280199\n",
       "'M'    231998\n",
       "'E'      1009\n",
       "'U'       437\n",
       "Name: count, dtype: int64"
      ]
     },
     "execution_count": 20,
     "metadata": {},
     "output_type": "execute_result"
    }
   ],
   "source": [
    "train[\"gender\"].value_counts()"
   ]
  },
  {
   "cell_type": "code",
   "execution_count": 21,
   "id": "d2ae6a92-854c-4e1e-8eab-4c04b8ffc4cc",
   "metadata": {},
   "outputs": [
    {
     "data": {
      "text/plain": [
       "category\n",
       "'es_transportation'        436311\n",
       "'es_food'                   22651\n",
       "'es_health'                 13917\n",
       "'es_wellnessandbeauty'      13044\n",
       "'es_fashion'                 5567\n",
       "'es_barsandrestaurants'      5548\n",
       "'es_hyper'                   5287\n",
       "'es_sportsandtoys'           3437\n",
       "'es_tech'                    2021\n",
       "'es_home'                    1714\n",
       "'es_hotelservices'           1523\n",
       "'es_otherservices'            802\n",
       "'es_contents'                 764\n",
       "'es_travel'                   625\n",
       "'es_leisure'                  432\n",
       "Name: count, dtype: int64"
      ]
     },
     "execution_count": 21,
     "metadata": {},
     "output_type": "execute_result"
    }
   ],
   "source": [
    "train[\"category\"].value_counts()"
   ]
  },
  {
   "cell_type": "code",
   "execution_count": 22,
   "id": "8469d052-bb90-4c88-bd36-4c2ac73e0caf",
   "metadata": {},
   "outputs": [
    {
     "data": {
      "text/plain": [
       "age\n",
       "'2'    161810\n",
       "'3'    127071\n",
       "'4'     94151\n",
       "'5'     54071\n",
       "'1'     50180\n",
       "'6'     23251\n",
       "'0'      2100\n",
       "'U'      1009\n",
       "Name: count, dtype: int64"
      ]
     },
     "execution_count": 22,
     "metadata": {},
     "output_type": "execute_result"
    }
   ],
   "source": [
    "train[\"age\"].value_counts()"
   ]
  },
  {
   "cell_type": "code",
   "execution_count": 23,
   "id": "e9871976-94e7-47f5-aa18-74c4c7773673",
   "metadata": {},
   "outputs": [],
   "source": [
    "#Converting age to numeric\n",
    "train[\"age\"]=train[\"age\"].str.strip(\"'\")"
   ]
  },
  {
   "cell_type": "code",
   "execution_count": 24,
   "id": "81c876e9-c4ce-4a29-be7b-54da4f478cd1",
   "metadata": {},
   "outputs": [],
   "source": [
    "train[\"age\"] = train[\"age\"].replace('U', np.nan)"
   ]
  },
  {
   "cell_type": "code",
   "execution_count": 25,
   "id": "eac34767-18b3-4fd7-8480-fd1a31530fd9",
   "metadata": {},
   "outputs": [
    {
     "name": "stderr",
     "output_type": "stream",
     "text": [
      "C:\\Users\\rohit\\miniconda3\\Lib\\site-packages\\pandas\\core\\dtypes\\common.py:1645: DeprecationWarning: Converting `np.inexact` or `np.floating` to a dtype is deprecated. The current result is `float64` which is not strictly correct.\n",
      "  npdtype = np.dtype(dtype)\n"
     ]
    }
   ],
   "source": [
    "train[\"age\"]=train[\"age\"].astype(np.number)"
   ]
  },
  {
   "cell_type": "code",
   "execution_count": 26,
   "id": "50b30ffb-6351-47e2-95da-097598155989",
   "metadata": {},
   "outputs": [
    {
     "data": {
      "text/plain": [
       "False"
      ]
     },
     "execution_count": 26,
     "metadata": {},
     "output_type": "execute_result"
    }
   ],
   "source": [
    "train[\"customer\"].nunique()==len(train)"
   ]
  },
  {
   "cell_type": "code",
   "execution_count": 27,
   "id": "825b9982-f61e-4be7-8939-3f132b5be855",
   "metadata": {},
   "outputs": [
    {
     "data": {
      "text/plain": [
       "customer\n",
       "'C1978250683'    220\n",
       "'C1275518867'    211\n",
       "'C806399525'     190\n",
       "'C515668508'     183\n",
       "'C1338396147'    173\n",
       "                ... \n",
       "'C1225568299'      5\n",
       "'C1743702978'      4\n",
       "'C849065220'       4\n",
       "'C1404665203'      4\n",
       "'C1809646275'      4\n",
       "Name: count, Length: 4112, dtype: int64"
      ]
     },
     "execution_count": 27,
     "metadata": {},
     "output_type": "execute_result"
    }
   ],
   "source": [
    "train[\"customer\"].value_counts()"
   ]
  },
  {
   "cell_type": "code",
   "execution_count": 28,
   "id": "9229dd2b-dccf-4a72-99dd-9149d8845c5b",
   "metadata": {},
   "outputs": [],
   "source": [
    "train['number_of_transactions'] =train.groupby('customer')['customer'].transform('count')"
   ]
  },
  {
   "cell_type": "markdown",
   "id": "b2cdd462-28b2-467d-aeb4-49110c882048",
   "metadata": {},
   "source": [
    "#### Potential changes to make:\n",
    "One-hot-encode category and gender\n",
    "\n",
    "Deal with zipcodeOri and zipMerchant being same rows\n",
    "\n",
    "Fill U in gender with most frequent\n",
    "\n",
    "Fill U in age"
   ]
  },
  {
   "cell_type": "markdown",
   "id": "b06f4452-cfa7-40d0-ae3b-88350d078d65",
   "metadata": {},
   "source": [
    "### Analysing numerical columns"
   ]
  },
  {
   "cell_type": "code",
   "execution_count": 29,
   "id": "85af97c9-790b-4a10-a9c0-504508e0cbce",
   "metadata": {},
   "outputs": [
    {
     "data": {
      "text/html": [
       "<div>\n",
       "<style scoped>\n",
       "    .dataframe tbody tr th:only-of-type {\n",
       "        vertical-align: middle;\n",
       "    }\n",
       "\n",
       "    .dataframe tbody tr th {\n",
       "        vertical-align: top;\n",
       "    }\n",
       "\n",
       "    .dataframe thead th {\n",
       "        text-align: right;\n",
       "    }\n",
       "</style>\n",
       "<table border=\"1\" class=\"dataframe\">\n",
       "  <thead>\n",
       "    <tr style=\"text-align: right;\">\n",
       "      <th></th>\n",
       "      <th>step</th>\n",
       "      <th>amount</th>\n",
       "      <th>fraud</th>\n",
       "    </tr>\n",
       "  </thead>\n",
       "  <tbody>\n",
       "    <tr>\n",
       "      <th>0</th>\n",
       "      <td>0</td>\n",
       "      <td>44.26</td>\n",
       "      <td>1</td>\n",
       "    </tr>\n",
       "    <tr>\n",
       "      <th>1</th>\n",
       "      <td>0</td>\n",
       "      <td>324.50</td>\n",
       "      <td>1</td>\n",
       "    </tr>\n",
       "    <tr>\n",
       "      <th>2</th>\n",
       "      <td>0</td>\n",
       "      <td>176.32</td>\n",
       "      <td>1</td>\n",
       "    </tr>\n",
       "    <tr>\n",
       "      <th>3</th>\n",
       "      <td>0</td>\n",
       "      <td>337.41</td>\n",
       "      <td>1</td>\n",
       "    </tr>\n",
       "    <tr>\n",
       "      <th>4</th>\n",
       "      <td>0</td>\n",
       "      <td>220.11</td>\n",
       "      <td>1</td>\n",
       "    </tr>\n",
       "    <tr>\n",
       "      <th>...</th>\n",
       "      <td>...</td>\n",
       "      <td>...</td>\n",
       "      <td>...</td>\n",
       "    </tr>\n",
       "    <tr>\n",
       "      <th>513638</th>\n",
       "      <td>179</td>\n",
       "      <td>51.17</td>\n",
       "      <td>0</td>\n",
       "    </tr>\n",
       "    <tr>\n",
       "      <th>513639</th>\n",
       "      <td>179</td>\n",
       "      <td>20.53</td>\n",
       "      <td>0</td>\n",
       "    </tr>\n",
       "    <tr>\n",
       "      <th>513640</th>\n",
       "      <td>179</td>\n",
       "      <td>50.73</td>\n",
       "      <td>0</td>\n",
       "    </tr>\n",
       "    <tr>\n",
       "      <th>513641</th>\n",
       "      <td>179</td>\n",
       "      <td>22.44</td>\n",
       "      <td>0</td>\n",
       "    </tr>\n",
       "    <tr>\n",
       "      <th>513642</th>\n",
       "      <td>179</td>\n",
       "      <td>14.46</td>\n",
       "      <td>0</td>\n",
       "    </tr>\n",
       "  </tbody>\n",
       "</table>\n",
       "<p>513643 rows × 3 columns</p>\n",
       "</div>"
      ],
      "text/plain": [
       "        step  amount  fraud\n",
       "0          0   44.26      1\n",
       "1          0  324.50      1\n",
       "2          0  176.32      1\n",
       "3          0  337.41      1\n",
       "4          0  220.11      1\n",
       "...      ...     ...    ...\n",
       "513638   179   51.17      0\n",
       "513639   179   20.53      0\n",
       "513640   179   50.73      0\n",
       "513641   179   22.44      0\n",
       "513642   179   14.46      0\n",
       "\n",
       "[513643 rows x 3 columns]"
      ]
     },
     "execution_count": 29,
     "metadata": {},
     "output_type": "execute_result"
    }
   ],
   "source": [
    "train[numerical_cols]"
   ]
  },
  {
   "cell_type": "code",
   "execution_count": 30,
   "id": "cdf1acfc-e3d9-4c27-8080-ef7fd0c0ffa6",
   "metadata": {},
   "outputs": [
    {
     "data": {
      "text/plain": [
       "step\n",
       "178    3249\n",
       "177    3245\n",
       "174    3245\n",
       "156    3244\n",
       "175    3243\n",
       "       ... \n",
       "3      2171\n",
       "4      2168\n",
       "2      2147\n",
       "0      2108\n",
       "1      2100\n",
       "Name: count, Length: 180, dtype: int64"
      ]
     },
     "execution_count": 30,
     "metadata": {},
     "output_type": "execute_result"
    }
   ],
   "source": [
    "train[\"step\"].value_counts()"
   ]
  },
  {
   "cell_type": "code",
   "execution_count": 31,
   "id": "7ac29c38-8267-4c39-acfb-6aeaed62d3e0",
   "metadata": {},
   "outputs": [
    {
     "data": {
      "text/plain": [
       "count    513643.000000\n",
       "mean         37.915481\n",
       "std         111.557455\n",
       "min           0.000000\n",
       "25%          13.740000\n",
       "50%          26.920000\n",
       "75%          42.550000\n",
       "max        7665.560000\n",
       "Name: amount, dtype: float64"
      ]
     },
     "execution_count": 31,
     "metadata": {},
     "output_type": "execute_result"
    }
   ],
   "source": [
    "train[\"amount\"].describe()"
   ]
  },
  {
   "cell_type": "code",
   "execution_count": 32,
   "id": "56bbf21c-a63c-4538-8afd-b6ae28a126a2",
   "metadata": {},
   "outputs": [
    {
     "data": {
      "text/plain": [
       "array([[<Axes: title={'center': 'step'}>,\n",
       "        <Axes: title={'center': 'amount'}>],\n",
       "       [<Axes: title={'center': 'fraud'}>, <Axes: >]], dtype=object)"
      ]
     },
     "execution_count": 32,
     "metadata": {},
     "output_type": "execute_result"
    },
    {
     "data": {
      "image/png": "[encoded data removed]",
      "text/plain": [
       "<Figure size 1800x1000 with 4 Axes>"
      ]
     },
     "metadata": {},
     "output_type": "display_data"
    }
   ],
   "source": [
    "train[numerical_cols].hist(bins=15,figsize=(18, 10))"
   ]
  },
  {
   "cell_type": "code",
   "execution_count": 33,
   "id": "28290993-9afe-4fc6-b1aa-ed1b638c0eed",
   "metadata": {},
   "outputs": [],
   "source": [
    "quantile_amounts = train.groupby('customer')['amount'].quantile(.95)"
   ]
  },
  {
   "cell_type": "code",
   "execution_count": 34,
   "id": "34959ebf-258f-443b-8342-40565afc0bb9",
   "metadata": {},
   "outputs": [],
   "source": [
    "#For calculating larger amounts(Above 95 percent quantile)\n",
    "def greater_quantile(row):\n",
    "    quantile_amount = quantile_amounts[row['customer']]\n",
    "    if row['amount'] > quantile_amount:\n",
    "        return 1\n",
    "    else:\n",
    "        return 0"
   ]
  },
  {
   "cell_type": "code",
   "execution_count": 35,
   "id": "4d0ad717-5a71-49b9-afc9-b6509a05484e",
   "metadata": {},
   "outputs": [],
   "source": [
    "train['is_large_amount_quantile'] = train.apply(greater_quantile, axis=1)"
   ]
  },
  {
   "cell_type": "code",
   "execution_count": 36,
   "id": "e3811520-d1c7-4045-8e9d-2eeeb2b4ab3c",
   "metadata": {},
   "outputs": [
    {
     "data": {
      "text/plain": [
       "is_large_amount_quantile\n",
       "0    486150\n",
       "1     27493\n",
       "Name: count, dtype: int64"
      ]
     },
     "execution_count": 36,
     "metadata": {},
     "output_type": "execute_result"
    }
   ],
   "source": [
    "train[\"is_large_amount_quantile\"].value_counts()"
   ]
  },
  {
   "cell_type": "code",
   "execution_count": 37,
   "id": "f8be893c-34d1-4117-bc09-ad01250ce60c",
   "metadata": {},
   "outputs": [
    {
     "data": {
      "text/plain": [
       "180"
      ]
     },
     "execution_count": 37,
     "metadata": {},
     "output_type": "execute_result"
    }
   ],
   "source": [
    "train[\"step\"].nunique()"
   ]
  },
  {
   "cell_type": "code",
   "execution_count": 38,
   "id": "4f1ed6f7-3998-4b2a-9ce7-896263800882",
   "metadata": {},
   "outputs": [
    {
     "data": {
      "text/plain": [
       "customer\n",
       "'C1000148617'    108.144144\n",
       "'C100045114'     122.663158\n",
       "'C1000699316'     50.784810\n",
       "'C1001065306'     90.920000\n",
       "'C1002658784'    105.422018\n",
       "                    ...    \n",
       "'C99729647'       89.321918\n",
       "'C998690782'      89.564935\n",
       "'C998987490'      89.634615\n",
       "'C999393223'     107.089431\n",
       "'C999723254'     110.231481\n",
       "Name: step, Length: 4112, dtype: float64"
      ]
     },
     "execution_count": 38,
     "metadata": {},
     "output_type": "execute_result"
    }
   ],
   "source": [
    "train.groupby(\"customer\")[\"step\"].mean()"
   ]
  },
  {
   "cell_type": "markdown",
   "id": "896716cc-d92c-4c5e-9b25-9866799b78c2",
   "metadata": {},
   "source": [
    "### To Do:\n",
    "one-hot-encode category and gender\n",
    "\n",
    "Remove U and E rows\n",
    "\n",
    "Outliers\n",
    "\n",
    "Feature Selection\n",
    "\n",
    "Correlation\n",
    "\n",
    "Oversampling(SMOTE)\n",
    "\n",
    "Scaling"
   ]
  },
  {
   "cell_type": "code",
   "execution_count": 39,
   "id": "1d86b146-dd82-4626-b3b6-85c7552d8e83",
   "metadata": {},
   "outputs": [
    {
     "data": {
      "text/plain": [
       "gender\n",
       "'F'    280199\n",
       "'M'    231998\n",
       "'E'      1009\n",
       "'U'       437\n",
       "Name: count, dtype: int64"
      ]
     },
     "execution_count": 39,
     "metadata": {},
     "output_type": "execute_result"
    }
   ],
   "source": [
    "train[\"gender\"].value_counts()"
   ]
  },
  {
   "cell_type": "code",
   "execution_count": 40,
   "id": "22a99543-b709-4ac3-8ff4-2f9943443314",
   "metadata": {},
   "outputs": [
    {
     "data": {
      "text/plain": [
       "1009"
      ]
     },
     "execution_count": 40,
     "metadata": {},
     "output_type": "execute_result"
    }
   ],
   "source": [
    "train[\"age\"].isnull().sum()"
   ]
  },
  {
   "cell_type": "code",
   "execution_count": 41,
   "id": "5938f655-854e-4fd9-9386-b6c987385fc3",
   "metadata": {},
   "outputs": [],
   "source": [
    "train = train[~train['gender'].isin([\"'U'\", \"'E'\"])]"
   ]
  },
  {
   "cell_type": "code",
   "execution_count": 42,
   "id": "cc89a720-8226-4d13-b56e-804eaf3de8c4",
   "metadata": {},
   "outputs": [
    {
     "data": {
      "text/plain": [
       "(512197, 12)"
      ]
     },
     "execution_count": 42,
     "metadata": {},
     "output_type": "execute_result"
    }
   ],
   "source": [
    "train.shape"
   ]
  },
  {
   "cell_type": "code",
   "execution_count": 43,
   "id": "bb08bb95-329c-4ded-ad11-6a7b361b091b",
   "metadata": {},
   "outputs": [],
   "source": [
    "df=train.copy()"
   ]
  },
  {
   "cell_type": "code",
   "execution_count": 44,
   "id": "0ba3ebe8-6da8-4ae7-a7f0-95d15b9cb4f2",
   "metadata": {},
   "outputs": [],
   "source": [
    "df.drop([\"zipcodeOri\",\"zipMerchant\"],axis=1,inplace=True)"
   ]
  },
  {
   "cell_type": "code",
   "execution_count": 45,
   "id": "49899481-8699-4750-92c3-62672cd4d2e8",
   "metadata": {},
   "outputs": [
    {
     "data": {
      "text/html": [
       "<div>\n",
       "<style scoped>\n",
       "    .dataframe tbody tr th:only-of-type {\n",
       "        vertical-align: middle;\n",
       "    }\n",
       "\n",
       "    .dataframe tbody tr th {\n",
       "        vertical-align: top;\n",
       "    }\n",
       "\n",
       "    .dataframe thead th {\n",
       "        text-align: right;\n",
       "    }\n",
       "</style>\n",
       "<table border=\"1\" class=\"dataframe\">\n",
       "  <thead>\n",
       "    <tr style=\"text-align: right;\">\n",
       "      <th></th>\n",
       "      <th>step</th>\n",
       "      <th>customer</th>\n",
       "      <th>age</th>\n",
       "      <th>gender</th>\n",
       "      <th>merchant</th>\n",
       "      <th>category</th>\n",
       "      <th>amount</th>\n",
       "      <th>fraud</th>\n",
       "      <th>number_of_transactions</th>\n",
       "      <th>is_large_amount_quantile</th>\n",
       "    </tr>\n",
       "  </thead>\n",
       "  <tbody>\n",
       "    <tr>\n",
       "      <th>0</th>\n",
       "      <td>0</td>\n",
       "      <td>'C583110837'</td>\n",
       "      <td>3.0</td>\n",
       "      <td>'M'</td>\n",
       "      <td>'M480139044'</td>\n",
       "      <td>'es_health'</td>\n",
       "      <td>44.26</td>\n",
       "      <td>1</td>\n",
       "      <td>118</td>\n",
       "      <td>0</td>\n",
       "    </tr>\n",
       "    <tr>\n",
       "      <th>1</th>\n",
       "      <td>0</td>\n",
       "      <td>'C1332295774'</td>\n",
       "      <td>3.0</td>\n",
       "      <td>'M'</td>\n",
       "      <td>'M480139044'</td>\n",
       "      <td>'es_health'</td>\n",
       "      <td>324.50</td>\n",
       "      <td>1</td>\n",
       "      <td>43</td>\n",
       "      <td>0</td>\n",
       "    </tr>\n",
       "    <tr>\n",
       "      <th>2</th>\n",
       "      <td>0</td>\n",
       "      <td>'C1160421902'</td>\n",
       "      <td>3.0</td>\n",
       "      <td>'M'</td>\n",
       "      <td>'M857378720'</td>\n",
       "      <td>'es_hotelservices'</td>\n",
       "      <td>176.32</td>\n",
       "      <td>1</td>\n",
       "      <td>108</td>\n",
       "      <td>1</td>\n",
       "    </tr>\n",
       "    <tr>\n",
       "      <th>3</th>\n",
       "      <td>0</td>\n",
       "      <td>'C966214713'</td>\n",
       "      <td>3.0</td>\n",
       "      <td>'M'</td>\n",
       "      <td>'M857378720'</td>\n",
       "      <td>'es_hotelservices'</td>\n",
       "      <td>337.41</td>\n",
       "      <td>1</td>\n",
       "      <td>84</td>\n",
       "      <td>1</td>\n",
       "    </tr>\n",
       "    <tr>\n",
       "      <th>4</th>\n",
       "      <td>0</td>\n",
       "      <td>'C1450140987'</td>\n",
       "      <td>4.0</td>\n",
       "      <td>'F'</td>\n",
       "      <td>'M1198415165'</td>\n",
       "      <td>'es_wellnessandbeauty'</td>\n",
       "      <td>220.11</td>\n",
       "      <td>1</td>\n",
       "      <td>125</td>\n",
       "      <td>0</td>\n",
       "    </tr>\n",
       "    <tr>\n",
       "      <th>...</th>\n",
       "      <td>...</td>\n",
       "      <td>...</td>\n",
       "      <td>...</td>\n",
       "      <td>...</td>\n",
       "      <td>...</td>\n",
       "      <td>...</td>\n",
       "      <td>...</td>\n",
       "      <td>...</td>\n",
       "      <td>...</td>\n",
       "      <td>...</td>\n",
       "    </tr>\n",
       "    <tr>\n",
       "      <th>513638</th>\n",
       "      <td>179</td>\n",
       "      <td>'C748358246'</td>\n",
       "      <td>2.0</td>\n",
       "      <td>'M'</td>\n",
       "      <td>'M1823072687'</td>\n",
       "      <td>'es_transportation'</td>\n",
       "      <td>51.17</td>\n",
       "      <td>0</td>\n",
       "      <td>147</td>\n",
       "      <td>0</td>\n",
       "    </tr>\n",
       "    <tr>\n",
       "      <th>513639</th>\n",
       "      <td>179</td>\n",
       "      <td>'C1753498738'</td>\n",
       "      <td>3.0</td>\n",
       "      <td>'F'</td>\n",
       "      <td>'M1823072687'</td>\n",
       "      <td>'es_transportation'</td>\n",
       "      <td>20.53</td>\n",
       "      <td>0</td>\n",
       "      <td>159</td>\n",
       "      <td>0</td>\n",
       "    </tr>\n",
       "    <tr>\n",
       "      <th>513640</th>\n",
       "      <td>179</td>\n",
       "      <td>'C650108285'</td>\n",
       "      <td>4.0</td>\n",
       "      <td>'F'</td>\n",
       "      <td>'M1823072687'</td>\n",
       "      <td>'es_transportation'</td>\n",
       "      <td>50.73</td>\n",
       "      <td>0</td>\n",
       "      <td>146</td>\n",
       "      <td>0</td>\n",
       "    </tr>\n",
       "    <tr>\n",
       "      <th>513641</th>\n",
       "      <td>179</td>\n",
       "      <td>'C123623130'</td>\n",
       "      <td>2.0</td>\n",
       "      <td>'F'</td>\n",
       "      <td>'M349281107'</td>\n",
       "      <td>'es_fashion'</td>\n",
       "      <td>22.44</td>\n",
       "      <td>0</td>\n",
       "      <td>139</td>\n",
       "      <td>0</td>\n",
       "    </tr>\n",
       "    <tr>\n",
       "      <th>513642</th>\n",
       "      <td>179</td>\n",
       "      <td>'C1499363341'</td>\n",
       "      <td>5.0</td>\n",
       "      <td>'M'</td>\n",
       "      <td>'M1823072687'</td>\n",
       "      <td>'es_transportation'</td>\n",
       "      <td>14.46</td>\n",
       "      <td>0</td>\n",
       "      <td>140</td>\n",
       "      <td>0</td>\n",
       "    </tr>\n",
       "  </tbody>\n",
       "</table>\n",
       "<p>512197 rows × 10 columns</p>\n",
       "</div>"
      ],
      "text/plain": [
       "        step       customer  age gender       merchant  \\\n",
       "0          0   'C583110837'  3.0    'M'   'M480139044'   \n",
       "1          0  'C1332295774'  3.0    'M'   'M480139044'   \n",
       "2          0  'C1160421902'  3.0    'M'   'M857378720'   \n",
       "3          0   'C966214713'  3.0    'M'   'M857378720'   \n",
       "4          0  'C1450140987'  4.0    'F'  'M1198415165'   \n",
       "...      ...            ...  ...    ...            ...   \n",
       "513638   179   'C748358246'  2.0    'M'  'M1823072687'   \n",
       "513639   179  'C1753498738'  3.0    'F'  'M1823072687'   \n",
       "513640   179   'C650108285'  4.0    'F'  'M1823072687'   \n",
       "513641   179   'C123623130'  2.0    'F'   'M349281107'   \n",
       "513642   179  'C1499363341'  5.0    'M'  'M1823072687'   \n",
       "\n",
       "                      category  amount  fraud  number_of_transactions  \\\n",
       "0                  'es_health'   44.26      1                     118   \n",
       "1                  'es_health'  324.50      1                      43   \n",
       "2           'es_hotelservices'  176.32      1                     108   \n",
       "3           'es_hotelservices'  337.41      1                      84   \n",
       "4       'es_wellnessandbeauty'  220.11      1                     125   \n",
       "...                        ...     ...    ...                     ...   \n",
       "513638     'es_transportation'   51.17      0                     147   \n",
       "513639     'es_transportation'   20.53      0                     159   \n",
       "513640     'es_transportation'   50.73      0                     146   \n",
       "513641            'es_fashion'   22.44      0                     139   \n",
       "513642     'es_transportation'   14.46      0                     140   \n",
       "\n",
       "        is_large_amount_quantile  \n",
       "0                              0  \n",
       "1                              0  \n",
       "2                              1  \n",
       "3                              1  \n",
       "4                              0  \n",
       "...                          ...  \n",
       "513638                         0  \n",
       "513639                         0  \n",
       "513640                         0  \n",
       "513641                         0  \n",
       "513642                         0  \n",
       "\n",
       "[512197 rows x 10 columns]"
      ]
     },
     "execution_count": 45,
     "metadata": {},
     "output_type": "execute_result"
    }
   ],
   "source": [
    "df"
   ]
  },
  {
   "cell_type": "code",
   "execution_count": 46,
   "id": "d473e995-63f8-4460-8467-322f56e4aedc",
   "metadata": {},
   "outputs": [],
   "source": [
    "numerical_cols = [var for var in df.columns if df[var].dtype!='O']"
   ]
  },
  {
   "cell_type": "code",
   "execution_count": 47,
   "id": "21c9606a-722f-42ef-b8ee-4695f9ca8b0d",
   "metadata": {},
   "outputs": [
    {
     "data": {
      "text/plain": [
       "<Axes: >"
      ]
     },
     "execution_count": 47,
     "metadata": {},
     "output_type": "execute_result"
    },
    {
     "data": {
      "image/png": "[encoded data removed]",
      "text/plain": [
       "<Figure size 640x480 with 2 Axes>"
      ]
     },
     "metadata": {},
     "output_type": "display_data"
    }
   ],
   "source": [
    "sns.heatmap(df[numerical_cols].corr(), cmap='coolwarm', annot=True, fmt='.2f')"
   ]
  },
  {
   "cell_type": "code",
   "execution_count": 48,
   "id": "e7cd2551-88ec-4b99-b1e4-7582b85070fe",
   "metadata": {},
   "outputs": [],
   "source": [
    "corr_matrix = df[numerical_cols].corr()"
   ]
  },
  {
   "cell_type": "code",
   "execution_count": 49,
   "id": "ee88601f-e230-4c91-8ae7-eb883ebdbad5",
   "metadata": {},
   "outputs": [],
   "source": [
    "fraud_corr = corr_matrix[['fraud']]"
   ]
  },
  {
   "cell_type": "code",
   "execution_count": 50,
   "id": "9ce07722-9f61-46d3-b643-73140e0a8f23",
   "metadata": {},
   "outputs": [
    {
     "data": {
      "text/plain": [
       "<Axes: >"
      ]
     },
     "execution_count": 50,
     "metadata": {},
     "output_type": "execute_result"
    },
    {
     "data": {
      "image/png": "[encoded data removed]",
      "text/plain": [
       "<Figure size 640x480 with 2 Axes>"
      ]
     },
     "metadata": {},
     "output_type": "display_data"
    }
   ],
   "source": [
    "sns.heatmap(fraud_corr.sort_values(by='fraud', ascending=False), annot=True, cmap='coolwarm')"
   ]
  },
  {
   "cell_type": "code",
   "execution_count": 51,
   "id": "9d92e30b-0120-4628-9565-5b2dae8b556e",
   "metadata": {},
   "outputs": [
    {
     "data": {
      "text/plain": [
       "<Axes: ylabel='amount'>"
      ]
     },
     "execution_count": 51,
     "metadata": {},
     "output_type": "execute_result"
    },
    {
     "data": {
      "image/png": "[encoded data removed]",
      "text/plain": [
       "<Figure size 640x480 with 1 Axes>"
      ]
     },
     "metadata": {},
     "output_type": "display_data"
    }
   ],
   "source": [
    "sns.scatterplot(df[\"amount\"])"
   ]
  },
  {
   "cell_type": "code",
   "execution_count": 52,
   "id": "4604466f-aee3-41c2-88c9-f309ca49c7a8",
   "metadata": {},
   "outputs": [],
   "source": [
    "# IQR for outlier detection\n",
    "Q1 = df['amount'].quantile(0.25)\n",
    "Q3 = df['amount'].quantile(0.75)\n",
    "IQR = Q3 - Q1\n",
    "outliers = df[(df['amount'] < (Q1 - 1.5 * IQR)) | (df['amount'] > (Q3 + 1.5 * IQR))]"
   ]
  },
  {
   "cell_type": "code",
   "execution_count": 53,
   "id": "a2004d4c-0f23-4e28-9930-1d948e604328",
   "metadata": {},
   "outputs": [
    {
     "data": {
      "text/plain": [
       "category\n",
       "'es_transportation'        435103\n",
       "'es_food'                   22575\n",
       "'es_health'                 13857\n",
       "'es_wellnessandbeauty'      13016\n",
       "'es_fashion'                 5551\n",
       "'es_barsandrestaurants'      5535\n",
       "'es_hyper'                   5271\n",
       "'es_sportsandtoys'           3435\n",
       "'es_tech'                    2011\n",
       "'es_home'                    1711\n",
       "'es_hotelservices'           1515\n",
       "'es_otherservices'            800\n",
       "'es_contents'                 761\n",
       "'es_travel'                   625\n",
       "'es_leisure'                  431\n",
       "Name: count, dtype: int64"
      ]
     },
     "execution_count": 53,
     "metadata": {},
     "output_type": "execute_result"
    }
   ],
   "source": [
    "df[\"category\"].value_counts()"
   ]
  },
  {
   "cell_type": "code",
   "execution_count": 54,
   "id": "6849a194-ab03-476f-b102-9033d3690fad",
   "metadata": {},
   "outputs": [],
   "source": [
    "df.drop([\"customer\",\"merchant\"],axis=1,inplace=True)"
   ]
  },
  {
   "cell_type": "code",
   "execution_count": 55,
   "id": "16e0644e-db78-4297-a0be-ae3240c6da52",
   "metadata": {},
   "outputs": [
    {
     "name": "stdout",
     "output_type": "stream",
     "text": [
      "<class 'pandas.core.frame.DataFrame'>\n",
      "Index: 512197 entries, 0 to 513642\n",
      "Data columns (total 8 columns):\n",
      " #   Column                    Non-Null Count   Dtype  \n",
      "---  ------                    --------------   -----  \n",
      " 0   step                      512197 non-null  int64  \n",
      " 1   age                       512197 non-null  float64\n",
      " 2   gender                    512197 non-null  object \n",
      " 3   category                  512197 non-null  object \n",
      " 4   amount                    512197 non-null  float64\n",
      " 5   fraud                     512197 non-null  int64  \n",
      " 6   number_of_transactions    512197 non-null  int64  \n",
      " 7   is_large_amount_quantile  512197 non-null  int64  \n",
      "dtypes: float64(2), int64(4), object(2)\n",
      "memory usage: 35.2+ MB\n"
     ]
    }
   ],
   "source": [
    "df.info()"
   ]
  },
  {
   "cell_type": "code",
   "execution_count": 56,
   "id": "d493c2b7-38cd-481c-a84f-6c3bc5e66611",
   "metadata": {},
   "outputs": [
    {
     "name": "stdout",
     "output_type": "stream",
     "text": [
      "[]\n"
     ]
    }
   ],
   "source": [
    "#Searching for Duplicated features\n",
    "sel = DropConstantFeatures(tol=0.99, variables=None)\n",
    "\n",
    "sel.fit(df)\n",
    "\n",
    "features_to_drop = list(sel.features_to_drop_)\n",
    "print(features_to_drop)"
   ]
  },
  {
   "cell_type": "code",
   "execution_count": 57,
   "id": "8a206fe3-704b-45af-94e8-55564e58de5b",
   "metadata": {},
   "outputs": [
    {
     "name": "stdout",
     "output_type": "stream",
     "text": [
      "Features to drop []\n",
      "\n",
      "Correlated Feature Sets []\n"
     ]
    }
   ],
   "source": [
    "#Looking for Correlated Features\n",
    "sel = DropCorrelatedFeatures(threshold=0.80,    \n",
    "                             method='pearson') \n",
    "\n",
    "sel.fit(df)\n",
    "\n",
    "features_to_drop = features_to_drop + list(sel.features_to_drop_)\n",
    "features_to_drop = list(set(features_to_drop))\n",
    "print('Features to drop', sel.features_to_drop_)\n",
    "print()\n",
    "print('Correlated Feature Sets', sel.correlated_feature_sets_)"
   ]
  },
  {
   "cell_type": "code",
   "execution_count": 58,
   "id": "ed525692-49b3-45ee-8600-931162af05eb",
   "metadata": {},
   "outputs": [],
   "source": [
    "X=df.drop(\"fraud\",axis=1)\n",
    "y=df[\"fraud\"]"
   ]
  },
  {
   "cell_type": "code",
   "execution_count": 59,
   "id": "98b33a7c-4f43-4681-8b61-16eb22ba40cd",
   "metadata": {},
   "outputs": [],
   "source": [
    "ss=StandardScaler()"
   ]
  },
  {
   "cell_type": "code",
   "execution_count": 60,
   "id": "e049fa94-215f-4300-bf34-2e2fb86fcdd2",
   "metadata": {},
   "outputs": [],
   "source": [
    "numerical_col_names = X.select_dtypes(include=['int64', 'float64']).columns.tolist()"
   ]
  },
  {
   "cell_type": "code",
   "execution_count": 61,
   "id": "470539f7-4009-4ac7-a2ca-f392b05ceb04",
   "metadata": {},
   "outputs": [],
   "source": [
    "temp=pd.DataFrame(ss.fit_transform(X[numerical_col_names]))"
   ]
  },
  {
   "cell_type": "code",
   "execution_count": 62,
   "id": "3e4850c1-d2dd-4f11-89f6-8402eab0f0fb",
   "metadata": {},
   "outputs": [
    {
     "data": {
      "text/html": [
       "<div>\n",
       "<style scoped>\n",
       "    .dataframe tbody tr th:only-of-type {\n",
       "        vertical-align: middle;\n",
       "    }\n",
       "\n",
       "    .dataframe tbody tr th {\n",
       "        vertical-align: top;\n",
       "    }\n",
       "\n",
       "    .dataframe thead th {\n",
       "        text-align: right;\n",
       "    }\n",
       "</style>\n",
       "<table border=\"1\" class=\"dataframe\">\n",
       "  <thead>\n",
       "    <tr style=\"text-align: right;\">\n",
       "      <th></th>\n",
       "      <th>0</th>\n",
       "      <th>1</th>\n",
       "      <th>2</th>\n",
       "      <th>3</th>\n",
       "      <th>4</th>\n",
       "    </tr>\n",
       "  </thead>\n",
       "  <tbody>\n",
       "    <tr>\n",
       "      <th>0</th>\n",
       "      <td>-1.860102</td>\n",
       "      <td>-0.005903</td>\n",
       "      <td>0.056730</td>\n",
       "      <td>-0.719627</td>\n",
       "      <td>-0.237805</td>\n",
       "    </tr>\n",
       "    <tr>\n",
       "      <th>1</th>\n",
       "      <td>-1.860102</td>\n",
       "      <td>-0.005903</td>\n",
       "      <td>2.565980</td>\n",
       "      <td>-3.723042</td>\n",
       "      <td>-0.237805</td>\n",
       "    </tr>\n",
       "    <tr>\n",
       "      <th>2</th>\n",
       "      <td>-1.860102</td>\n",
       "      <td>-0.005903</td>\n",
       "      <td>1.239187</td>\n",
       "      <td>-1.120082</td>\n",
       "      <td>4.205127</td>\n",
       "    </tr>\n",
       "    <tr>\n",
       "      <th>3</th>\n",
       "      <td>-1.860102</td>\n",
       "      <td>-0.005903</td>\n",
       "      <td>2.681576</td>\n",
       "      <td>-2.081175</td>\n",
       "      <td>4.205127</td>\n",
       "    </tr>\n",
       "    <tr>\n",
       "      <th>4</th>\n",
       "      <td>-1.860102</td>\n",
       "      <td>0.748336</td>\n",
       "      <td>1.631279</td>\n",
       "      <td>-0.439308</td>\n",
       "      <td>-0.237805</td>\n",
       "    </tr>\n",
       "    <tr>\n",
       "      <th>...</th>\n",
       "      <td>...</td>\n",
       "      <td>...</td>\n",
       "      <td>...</td>\n",
       "      <td>...</td>\n",
       "      <td>...</td>\n",
       "    </tr>\n",
       "    <tr>\n",
       "      <th>512192</th>\n",
       "      <td>1.645138</td>\n",
       "      <td>-0.760143</td>\n",
       "      <td>0.118602</td>\n",
       "      <td>0.441694</td>\n",
       "      <td>-0.237805</td>\n",
       "    </tr>\n",
       "    <tr>\n",
       "      <th>512193</th>\n",
       "      <td>1.645138</td>\n",
       "      <td>-0.005903</td>\n",
       "      <td>-0.155747</td>\n",
       "      <td>0.922241</td>\n",
       "      <td>-0.237805</td>\n",
       "    </tr>\n",
       "    <tr>\n",
       "      <th>512194</th>\n",
       "      <td>1.645138</td>\n",
       "      <td>0.748336</td>\n",
       "      <td>0.114662</td>\n",
       "      <td>0.401649</td>\n",
       "      <td>-0.237805</td>\n",
       "    </tr>\n",
       "    <tr>\n",
       "      <th>512195</th>\n",
       "      <td>1.645138</td>\n",
       "      <td>-0.760143</td>\n",
       "      <td>-0.138645</td>\n",
       "      <td>0.121330</td>\n",
       "      <td>-0.237805</td>\n",
       "    </tr>\n",
       "    <tr>\n",
       "      <th>512196</th>\n",
       "      <td>1.645138</td>\n",
       "      <td>1.502575</td>\n",
       "      <td>-0.210097</td>\n",
       "      <td>0.161375</td>\n",
       "      <td>-0.237805</td>\n",
       "    </tr>\n",
       "  </tbody>\n",
       "</table>\n",
       "<p>512197 rows × 5 columns</p>\n",
       "</div>"
      ],
      "text/plain": [
       "               0         1         2         3         4\n",
       "0      -1.860102 -0.005903  0.056730 -0.719627 -0.237805\n",
       "1      -1.860102 -0.005903  2.565980 -3.723042 -0.237805\n",
       "2      -1.860102 -0.005903  1.239187 -1.120082  4.205127\n",
       "3      -1.860102 -0.005903  2.681576 -2.081175  4.205127\n",
       "4      -1.860102  0.748336  1.631279 -0.439308 -0.237805\n",
       "...          ...       ...       ...       ...       ...\n",
       "512192  1.645138 -0.760143  0.118602  0.441694 -0.237805\n",
       "512193  1.645138 -0.005903 -0.155747  0.922241 -0.237805\n",
       "512194  1.645138  0.748336  0.114662  0.401649 -0.237805\n",
       "512195  1.645138 -0.760143 -0.138645  0.121330 -0.237805\n",
       "512196  1.645138  1.502575 -0.210097  0.161375 -0.237805\n",
       "\n",
       "[512197 rows x 5 columns]"
      ]
     },
     "execution_count": 62,
     "metadata": {},
     "output_type": "execute_result"
    }
   ],
   "source": [
    "temp.reset_index(drop=True)"
   ]
  },
  {
   "cell_type": "code",
   "execution_count": 63,
   "id": "f802a787-b894-4a06-b349-2f5e40e213f1",
   "metadata": {},
   "outputs": [],
   "source": [
    "temp.columns=numerical_col_names"
   ]
  },
  {
   "cell_type": "code",
   "execution_count": 64,
   "id": "9effdcda-0603-4051-b6a2-481c35d17887",
   "metadata": {},
   "outputs": [],
   "source": [
    "categorical_col_df = X.select_dtypes(exclude=['int64', 'float64'])"
   ]
  },
  {
   "cell_type": "code",
   "execution_count": 65,
   "id": "e67eb68b-a8c2-4588-aa21-3b3c94e160e8",
   "metadata": {},
   "outputs": [
    {
     "data": {
      "text/html": [
       "<div>\n",
       "<style scoped>\n",
       "    .dataframe tbody tr th:only-of-type {\n",
       "        vertical-align: middle;\n",
       "    }\n",
       "\n",
       "    .dataframe tbody tr th {\n",
       "        vertical-align: top;\n",
       "    }\n",
       "\n",
       "    .dataframe thead th {\n",
       "        text-align: right;\n",
       "    }\n",
       "</style>\n",
       "<table border=\"1\" class=\"dataframe\">\n",
       "  <thead>\n",
       "    <tr style=\"text-align: right;\">\n",
       "      <th></th>\n",
       "      <th>gender</th>\n",
       "      <th>category</th>\n",
       "    </tr>\n",
       "  </thead>\n",
       "  <tbody>\n",
       "    <tr>\n",
       "      <th>0</th>\n",
       "      <td>'M'</td>\n",
       "      <td>'es_health'</td>\n",
       "    </tr>\n",
       "    <tr>\n",
       "      <th>1</th>\n",
       "      <td>'M'</td>\n",
       "      <td>'es_health'</td>\n",
       "    </tr>\n",
       "    <tr>\n",
       "      <th>2</th>\n",
       "      <td>'M'</td>\n",
       "      <td>'es_hotelservices'</td>\n",
       "    </tr>\n",
       "    <tr>\n",
       "      <th>3</th>\n",
       "      <td>'M'</td>\n",
       "      <td>'es_hotelservices'</td>\n",
       "    </tr>\n",
       "    <tr>\n",
       "      <th>4</th>\n",
       "      <td>'F'</td>\n",
       "      <td>'es_wellnessandbeauty'</td>\n",
       "    </tr>\n",
       "    <tr>\n",
       "      <th>...</th>\n",
       "      <td>...</td>\n",
       "      <td>...</td>\n",
       "    </tr>\n",
       "    <tr>\n",
       "      <th>512192</th>\n",
       "      <td>'M'</td>\n",
       "      <td>'es_transportation'</td>\n",
       "    </tr>\n",
       "    <tr>\n",
       "      <th>512193</th>\n",
       "      <td>'F'</td>\n",
       "      <td>'es_transportation'</td>\n",
       "    </tr>\n",
       "    <tr>\n",
       "      <th>512194</th>\n",
       "      <td>'F'</td>\n",
       "      <td>'es_transportation'</td>\n",
       "    </tr>\n",
       "    <tr>\n",
       "      <th>512195</th>\n",
       "      <td>'F'</td>\n",
       "      <td>'es_fashion'</td>\n",
       "    </tr>\n",
       "    <tr>\n",
       "      <th>512196</th>\n",
       "      <td>'M'</td>\n",
       "      <td>'es_transportation'</td>\n",
       "    </tr>\n",
       "  </tbody>\n",
       "</table>\n",
       "<p>512197 rows × 2 columns</p>\n",
       "</div>"
      ],
      "text/plain": [
       "       gender                category\n",
       "0         'M'             'es_health'\n",
       "1         'M'             'es_health'\n",
       "2         'M'      'es_hotelservices'\n",
       "3         'M'      'es_hotelservices'\n",
       "4         'F'  'es_wellnessandbeauty'\n",
       "...       ...                     ...\n",
       "512192    'M'     'es_transportation'\n",
       "512193    'F'     'es_transportation'\n",
       "512194    'F'     'es_transportation'\n",
       "512195    'F'            'es_fashion'\n",
       "512196    'M'     'es_transportation'\n",
       "\n",
       "[512197 rows x 2 columns]"
      ]
     },
     "execution_count": 65,
     "metadata": {},
     "output_type": "execute_result"
    }
   ],
   "source": [
    "categorical_col_df.reset_index(drop=True)"
   ]
  },
  {
   "cell_type": "code",
   "execution_count": 66,
   "id": "1555e546-6142-4238-8ac3-93a48dab11c9",
   "metadata": {},
   "outputs": [
    {
     "data": {
      "text/plain": [
       "step                        0\n",
       "age                         0\n",
       "amount                      0\n",
       "number_of_transactions      0\n",
       "is_large_amount_quantile    0\n",
       "dtype: int64"
      ]
     },
     "execution_count": 66,
     "metadata": {},
     "output_type": "execute_result"
    }
   ],
   "source": [
    "temp.isnull().sum()"
   ]
  },
  {
   "cell_type": "code",
   "execution_count": 67,
   "id": "7d8f65e1-ec26-4662-8431-d3f083288c1f",
   "metadata": {},
   "outputs": [
    {
     "data": {
      "text/plain": [
       "gender      0\n",
       "category    0\n",
       "dtype: int64"
      ]
     },
     "execution_count": 67,
     "metadata": {},
     "output_type": "execute_result"
    }
   ],
   "source": [
    "categorical_col_df.isnull().sum()"
   ]
  },
  {
   "cell_type": "code",
   "execution_count": 68,
   "id": "086670b3-36a0-4474-a333-e4750fd29f38",
   "metadata": {},
   "outputs": [
    {
     "data": {
      "text/plain": [
       "RangeIndex(start=0, stop=512197, step=1)"
      ]
     },
     "execution_count": 68,
     "metadata": {},
     "output_type": "execute_result"
    }
   ],
   "source": [
    "temp.index"
   ]
  },
  {
   "cell_type": "code",
   "execution_count": 69,
   "id": "46915542-7a4d-427a-9c93-532c563b8e26",
   "metadata": {},
   "outputs": [],
   "source": [
    "categorical_col_df.index = temp.index"
   ]
  },
  {
   "cell_type": "code",
   "execution_count": 70,
   "id": "0ff91f0a-401f-468e-aab9-12c42411a7f0",
   "metadata": {},
   "outputs": [],
   "source": [
    "X=pd.concat([temp,categorical_col_df],axis=1)"
   ]
  },
  {
   "cell_type": "code",
   "execution_count": 71,
   "id": "fe20dcac-e87e-430f-b336-de3cd89fba70",
   "metadata": {},
   "outputs": [],
   "source": [
    "X=pd.get_dummies(X)"
   ]
  },
  {
   "cell_type": "code",
   "execution_count": 72,
   "id": "0a031b88-81a2-43a2-a283-b0125e388b61",
   "metadata": {},
   "outputs": [],
   "source": [
    "# pca = PCA()\n",
    "# X_pca = pca.fit_transform(X)\n",
    "# print(pca.explained_variance_ratio_)\n"
   ]
  },
  {
   "cell_type": "code",
   "execution_count": 73,
   "id": "f43d790e-508d-4185-9a85-3d87202605f4",
   "metadata": {},
   "outputs": [],
   "source": [
    "# import matplotlib.pyplot as plt\n",
    "\n",
    "# cumulative_variance = np.cumsum(pca.explained_variance_ratio_)\n",
    "# plt.plot(cumulative_variance)\n",
    "# plt.xlabel('Number of components')\n",
    "# plt.ylabel('Cumulative explained variance')\n",
    "# plt.show()\n"
   ]
  },
  {
   "cell_type": "code",
   "execution_count": 74,
   "id": "9cce624c-7054-4fee-8287-eab00a49a82b",
   "metadata": {},
   "outputs": [],
   "source": [
    "# pca = PCA(n_components=n_components)\n",
    "# X = pca.fit_transform(X)"
   ]
  },
  {
   "cell_type": "code",
   "execution_count": 75,
   "id": "96cc3503-7b67-4938-9ac1-174a13e9dc5d",
   "metadata": {},
   "outputs": [],
   "source": [
    "from sklearn.model_selection import train_test_split"
   ]
  },
  {
   "cell_type": "code",
   "execution_count": 76,
   "id": "3d66219d-7595-42da-bd22-0046bdb5aeb2",
   "metadata": {},
   "outputs": [],
   "source": [
    "X_train, X_test, y_train, y_test = train_test_split(X, y, test_size=0.2)"
   ]
  },
  {
   "cell_type": "code",
   "execution_count": 77,
   "id": "9618a065-d91e-4e68-8d03-d7627c84caf4",
   "metadata": {},
   "outputs": [
    {
     "name": "stdout",
     "output_type": "stream",
     "text": [
      "After SMOTE, counts of label '1': 404789\n",
      "After SMOTE, counts of label '0': 404789\n"
     ]
    }
   ],
   "source": [
    "smote = SMOTE(random_state=42)\n",
    "X_train_smote, y_train_smote = smote.fit_resample(X_train, y_train)\n",
    "\n",
    "# Check the class distribution after SMOTE\n",
    "print(\"After SMOTE, counts of label '1': {}\".format(sum(y_train_smote == 1)))\n",
    "print(\"After SMOTE, counts of label '0': {}\".format(sum(y_train_smote == 0)))"
   ]
  },
  {
   "cell_type": "code",
   "execution_count": 78,
   "id": "be7f3b58-614a-4123-88e5-e9d9d9432bbd",
   "metadata": {},
   "outputs": [
    {
     "name": "stderr",
     "output_type": "stream",
     "text": [
      "[I 2024-08-21 17:38:25,035] A new study created in memory with name: no-name-8d111ad1-c3aa-43ed-b316-33ff69de44e0\n",
      "[I 2024-08-21 17:38:30,500] Trial 0 finished with value: 0.995141022760877 and parameters: {'n_estimators': 199, 'max_depth': 8}. Best is trial 0 with value: 0.995141022760877.\n",
      "[I 2024-08-21 17:38:37,153] Trial 1 finished with value: 0.9953777482632303 and parameters: {'n_estimators': 418, 'max_depth': 3}. Best is trial 1 with value: 0.9953777482632303.\n",
      "[I 2024-08-21 17:38:54,417] Trial 2 finished with value: 0.9951117370038828 and parameters: {'n_estimators': 486, 'max_depth': 6}. Best is trial 1 with value: 0.9953777482632303.\n",
      "[I 2024-08-21 17:39:07,315] Trial 3 finished with value: 0.9950604870095474 and parameters: {'n_estimators': 348, 'max_depth': 7}. Best is trial 1 with value: 0.9953777482632303.\n",
      "[I 2024-08-21 17:39:17,184] Trial 4 finished with value: 0.9952191176185212 and parameters: {'n_estimators': 257, 'max_depth': 6}. Best is trial 1 with value: 0.9953777482632303.\n",
      "[I 2024-08-21 17:39:27,959] Trial 5 finished with value: 0.9951556652998872 and parameters: {'n_estimators': 261, 'max_depth': 7}. Best is trial 1 with value: 0.9953777482632303.\n",
      "[I 2024-08-21 17:39:41,670] Trial 6 finished with value: 0.9952142366351984 and parameters: {'n_estimators': 429, 'max_depth': 5}. Best is trial 1 with value: 0.9953777482632303.\n",
      "[I 2024-08-21 17:39:56,604] Trial 7 finished with value: 0.9950604872418282 and parameters: {'n_estimators': 381, 'max_depth': 8}. Best is trial 1 with value: 0.9953777482632303.\n",
      "[I 2024-08-21 17:40:03,144] Trial 8 finished with value: 0.9953387006646648 and parameters: {'n_estimators': 269, 'max_depth': 4}. Best is trial 1 with value: 0.9953777482632303.\n",
      "[I 2024-08-21 17:40:07,973] Trial 9 finished with value: 0.9953655460104026 and parameters: {'n_estimators': 225, 'max_depth': 3}. Best is trial 1 with value: 0.9953777482632303.\n",
      "[I 2024-08-21 17:40:10,794] Trial 10 finished with value: 0.9953582246158234 and parameters: {'n_estimators': 112, 'max_depth': 3}. Best is trial 1 with value: 0.9953777482632303.\n",
      "[I 2024-08-21 17:40:15,045] Trial 11 finished with value: 0.9953167366238689 and parameters: {'n_estimators': 167, 'max_depth': 3}. Best is trial 1 with value: 0.9953777482632303.\n",
      "[I 2024-08-21 17:40:22,481] Trial 12 finished with value: 0.9953069746036203 and parameters: {'n_estimators': 347, 'max_depth': 4}. Best is trial 1 with value: 0.9953777482632303.\n",
      "[I 2024-08-21 17:40:33,063] Trial 13 finished with value: 0.9952142367066695 and parameters: {'n_estimators': 481, 'max_depth': 4}. Best is trial 1 with value: 0.9953777482632303.\n",
      "[I 2024-08-21 17:40:40,344] Trial 14 finished with value: 0.9953753078341062 and parameters: {'n_estimators': 415, 'max_depth': 3}. Best is trial 1 with value: 0.9953777482632303.\n"
     ]
    }
   ],
   "source": [
    "import optuna\n",
    "import xgboost as xgb\n",
    "\n",
    "def objective(trial):\n",
    "    n_estimators = trial.suggest_int('n_estimators', 100, 500)\n",
    "    max_depth = trial.suggest_int('max_depth', 3, 8)\n",
    "    clf = xgb.XGBClassifier(n_estimators=n_estimators, max_depth=max_depth)\n",
    "    return sklearn.model_selection.cross_val_score(clf, X_train, y_train, n_jobs=-1, cv=3).mean()\n",
    "\n",
    "study = optuna.create_study(direction='maximize')\n",
    "study.optimize(objective, n_trials=15)\n"
   ]
  },
  {
   "cell_type": "code",
   "execution_count": 79,
   "id": "77853fec-6dbf-4d9f-9a24-c8debf77f4b4",
   "metadata": {},
   "outputs": [
    {
     "name": "stdout",
     "output_type": "stream",
     "text": [
      "{'n_estimators': 418, 'max_depth': 3}\n"
     ]
    }
   ],
   "source": [
    "best_params = study.best_params\n",
    "print(best_params)"
   ]
  },
  {
   "cell_type": "code",
   "execution_count": 80,
   "id": "f786091d-b93e-4539-901e-77c7c0f98802",
   "metadata": {},
   "outputs": [
    {
     "name": "stdout",
     "output_type": "stream",
     "text": [
      "Best trial value: 0.9953777482632303\n"
     ]
    }
   ],
   "source": [
    "best_trial = study.best_trial\n",
    "print(\"Best trial value:\", best_trial.value)"
   ]
  },
  {
   "cell_type": "code",
   "execution_count": 81,
   "id": "18bd3135-3734-4542-b050-d026eae2d3a5",
   "metadata": {},
   "outputs": [],
   "source": [
    "model = xgb.XGBClassifier(**best_params)\n",
    "model.fit(X_train, y_train)\n",
    "predictions = model.predict(X_test)"
   ]
  },
  {
   "cell_type": "code",
   "execution_count": 82,
   "id": "8f5dff37-88b8-495c-a732-95d4c07114f0",
   "metadata": {},
   "outputs": [],
   "source": [
    "probabilities = model.predict_proba(X_test)[:, 1]"
   ]
  },
  {
   "cell_type": "code",
   "execution_count": 96,
   "id": "9fd268e2-a45a-495d-b9eb-1e15ff1fcbfe",
   "metadata": {},
   "outputs": [],
   "source": [
    "threshold = 0.9\n",
    "xgb_predictions = (probabilities >= threshold).astype(int)"
   ]
  },
  {
   "cell_type": "code",
   "execution_count": 102,
   "id": "39780844-6f67-47c6-8d50-27499cb8194f",
   "metadata": {},
   "outputs": [
    {
     "data": {
      "text/plain": [
       "0.9848714069591528"
      ]
     },
     "execution_count": 102,
     "metadata": {},
     "output_type": "execute_result"
    }
   ],
   "source": [
    "precision_score(y_test, xgb_predictions)"
   ]
  },
  {
   "cell_type": "code",
   "execution_count": 98,
   "id": "1dc701dd-da26-4909-af61-e547601bcfd8",
   "metadata": {},
   "outputs": [
    {
     "data": {
      "text/plain": [
       "0.5309951060358891"
      ]
     },
     "execution_count": 98,
     "metadata": {},
     "output_type": "execute_result"
    }
   ],
   "source": [
    "recall_score(y_test, xgb_predictions)"
   ]
  },
  {
   "cell_type": "code",
   "execution_count": 99,
   "id": "9c68c19c-c89b-4729-94cf-5e37188033b4",
   "metadata": {},
   "outputs": [
    {
     "data": {
      "text/plain": [
       "0.6899841017488076"
      ]
     },
     "execution_count": 99,
     "metadata": {},
     "output_type": "execute_result"
    }
   ],
   "source": [
    "f1_score(y_test, xgb_predictions)"
   ]
  },
  {
   "cell_type": "code",
   "execution_count": 100,
   "id": "1551fd9e-1693-4cc1-8d57-9bdf57a8b83c",
   "metadata": {},
   "outputs": [
    {
     "data": {
      "text/plain": [
       "0.765448152737351"
      ]
     },
     "execution_count": 100,
     "metadata": {},
     "output_type": "execute_result"
    }
   ],
   "source": [
    "roc_auc_score(y_test, xgb_predictions)"
   ]
  },
  {
   "cell_type": "code",
   "execution_count": 101,
   "id": "c07e032c-d273-4b53-a74f-11c5997ac5f3",
   "metadata": {},
   "outputs": [
    {
     "data": {
      "text/plain": [
       "<Axes: >"
      ]
     },
     "execution_count": 101,
     "metadata": {},
     "output_type": "execute_result"
    },
    {
     "data": {
      "image/png": "[encoded data removed]",
      "text/plain": [
       "<Figure size 640x480 with 2 Axes>"
      ]
     },
     "metadata": {},
     "output_type": "display_data"
    }
   ],
   "source": [
    "sns.heatmap(confusion_matrix(xgb_predictions,y_test),annot=True,fmt='.2f')"
   ]
  },
  {
   "cell_type": "code",
   "execution_count": 93,
   "id": "0bbf2892-5876-482a-bde9-ec3a54705513",
   "metadata": {},
   "outputs": [
    {
     "data": {
      "image/png": "[encoded data removed]",
      "text/plain": [
       "<Figure size 800x500 with 1 Axes>"
      ]
     },
     "metadata": {},
     "output_type": "display_data"
    }
   ],
   "source": [
    "from sklearn.metrics import precision_recall_curve\n",
    "import matplotlib.pyplot as plt\n",
    "\n",
    "precisions, recalls, thresholds = precision_recall_curve(y_test, probabilities)\n",
    "plt.figure(figsize=(8, 5))\n",
    "plt.plot(thresholds, precisions[:-1], \"b--\", label=\"Precision\")\n",
    "plt.plot(thresholds, recalls[:-1], \"g-\", label=\"Recall\")\n",
    "plt.xlabel(\"Threshold\")\n",
    "plt.legend(loc=\"best\")\n",
    "plt.title(\"Precision-Recall Trade-off\")\n",
    "plt.show()\n"
   ]
  },
  {
   "cell_type": "code",
   "execution_count": null,
   "id": "b6c0b916-c97f-4b64-b001-1c6dabbfa6a4",
   "metadata": {},
   "outputs": [],
   "source": []
  },
  {
   "cell_type": "code",
   "execution_count": null,
   "id": "379244d6-0a3a-4406-ad22-ca39bd2a2d82",
   "metadata": {},
   "outputs": [],
   "source": [
    "test=pd.read_csv(r\"C:\\Users\\rohit\\Downloads\\test_hsbc_df.csv\")"
   ]
  },
  {
   "cell_type": "code",
   "execution_count": null,
   "id": "30dc223f-d18d-4d03-be2a-39d8477dd7ff",
   "metadata": {},
   "outputs": [],
   "source": [
    "#Converting age to numeric\n",
    "test[\"age\"]=test[\"age\"].str.strip(\"'\")"
   ]
  },
  {
   "cell_type": "code",
   "execution_count": null,
   "id": "9d057057-25e6-4e34-bf7e-b0d5c683610c",
   "metadata": {},
   "outputs": [],
   "source": [
    "test[\"age\"] = test[\"age\"].replace('U', np.nan)"
   ]
  },
  {
   "cell_type": "code",
   "execution_count": null,
   "id": "72ff1b91-346b-4de2-8e3b-ad498d9854b0",
   "metadata": {},
   "outputs": [],
   "source": [
    "test[\"age\"]=test[\"age\"].astype(np.number)"
   ]
  },
  {
   "cell_type": "code",
   "execution_count": null,
   "id": "398ff8b3-bdd6-4e3e-98c1-c92a1ba1f3b6",
   "metadata": {},
   "outputs": [],
   "source": [
    "test.dropna(inplace=True)"
   ]
  },
  {
   "cell_type": "code",
   "execution_count": null,
   "id": "a5852894-9a66-4195-b910-e58039d088ae",
   "metadata": {},
   "outputs": [],
   "source": [
    "test['number_of_transactions'] =test.groupby('customer')['customer'].transform('count')"
   ]
  },
  {
   "cell_type": "code",
   "execution_count": null,
   "id": "5a4bd0e4-408a-445f-8d04-a24f3f48285d",
   "metadata": {},
   "outputs": [],
   "source": [
    "quantile_amounts = test.groupby('customer')['amount'].quantile(.95)"
   ]
  },
  {
   "cell_type": "code",
   "execution_count": 1,
   "id": "c0793aee-b2f0-4fb4-9460-c64c63bb4943",
   "metadata": {},
   "outputs": [],
   "source": [
    "#For calculating larger amounts(Above 95 percent quantile)\n",
    "def greater_quantile(row):\n",
    "    quantile_amount = quantile_amounts[row['customer']]\n",
    "    if row['amount'] > quantile_amount:\n",
    "        return 1\n",
    "    else:\n",
    "        return 0"
   ]
  },
  {
   "cell_type": "code",
   "execution_count": null,
   "id": "6541b780-c6d2-4fa2-965f-e4efe871ab3f",
   "metadata": {},
   "outputs": [],
   "source": [
    "test['is_large_amount_quantile'] = test.apply(greater_quantile, axis=1)"
   ]
  },
  {
   "cell_type": "code",
   "execution_count": null,
   "id": "215bd8d5-802f-4f70-beea-907482b605ae",
   "metadata": {},
   "outputs": [],
   "source": [
    "test = test[~test['gender'].isin([\"'U'\", \"'E'\"])]"
   ]
  },
  {
   "cell_type": "code",
   "execution_count": null,
   "id": "e391cbd8-1bf1-429e-b0c0-97f6bd67d9ec",
   "metadata": {},
   "outputs": [],
   "source": [
    "test.drop([\"zipcodeOri\",\"zipMerchant\"],axis=1,inplace=True)"
   ]
  },
  {
   "cell_type": "code",
   "execution_count": null,
   "id": "f61d11e6-c069-41d6-b191-f13fa23a55f1",
   "metadata": {},
   "outputs": [],
   "source": [
    "test.drop([\"customer\",\"merchant\"],axis=1,inplace=True)"
   ]
  },
  {
   "cell_type": "code",
   "execution_count": null,
   "id": "1f8b2117-5965-43d7-8049-477a827a3898",
   "metadata": {},
   "outputs": [],
   "source": [
    "ss=StandardScaler()"
   ]
  },
  {
   "cell_type": "code",
   "execution_count": null,
   "id": "c2462ee0-14bf-4009-8848-98a71a487442",
   "metadata": {},
   "outputs": [],
   "source": [
    "numerical_col_names = test.select_dtypes(include=['int64', 'float64']).columns.tolist()"
   ]
  },
  {
   "cell_type": "code",
   "execution_count": null,
   "id": "111b1620-622e-4b9c-8571-0610ec673b9a",
   "metadata": {},
   "outputs": [],
   "source": [
    "temp=pd.DataFrame(ss.fit_transform(test[numerical_col_names]))"
   ]
  },
  {
   "cell_type": "code",
   "execution_count": null,
   "id": "ddf2ec82-9a86-41d5-b8cb-d964f3c8a6ca",
   "metadata": {},
   "outputs": [],
   "source": [
    "temp.reset_index(drop=True)"
   ]
  },
  {
   "cell_type": "code",
   "execution_count": null,
   "id": "e1485b62-d31c-4e01-842b-097c2729e41d",
   "metadata": {},
   "outputs": [],
   "source": [
    "temp.columns=numerical_col_names"
   ]
  },
  {
   "cell_type": "code",
   "execution_count": null,
   "id": "903b8d10-b466-4e06-ab84-ae714198f9d8",
   "metadata": {},
   "outputs": [],
   "source": [
    "categorical_col_df = test.select_dtypes(exclude=['int64', 'float64'])"
   ]
  },
  {
   "cell_type": "code",
   "execution_count": null,
   "id": "cfac22cc-84ba-4ba6-a5e5-6446cb8abf81",
   "metadata": {},
   "outputs": [],
   "source": [
    "categorical_col_df.reset_index(drop=True)"
   ]
  },
  {
   "cell_type": "code",
   "execution_count": null,
   "id": "59c4aafb-f6af-41e7-82b4-7bdaa84d1167",
   "metadata": {},
   "outputs": [],
   "source": [
    "categorical_col_df.index = temp.index"
   ]
  },
  {
   "cell_type": "code",
   "execution_count": null,
   "id": "1e2e699c-592b-4370-b68e-b8013fe6fd34",
   "metadata": {},
   "outputs": [],
   "source": [
    "test=pd.concat([temp,categorical_col_df],axis=1)"
   ]
  },
  {
   "cell_type": "code",
   "execution_count": null,
   "id": "79c9192d-45be-4552-ae5d-23c977524c28",
   "metadata": {},
   "outputs": [],
   "source": [
    "test=pd.get_dummies(X)"
   ]
  },
  {
   "cell_type": "code",
   "execution_count": null,
   "id": "76887910-78dc-42bf-bd03-7bea9ec1132e",
   "metadata": {},
   "outputs": [],
   "source": []
  },
  {
   "cell_type": "code",
   "execution_count": null,
   "id": "a3519cc3-5d4f-44f0-a630-f5bd9023e83a",
   "metadata": {},
   "outputs": [],
   "source": []
  },
  {
   "cell_type": "code",
   "execution_count": null,
   "id": "20e1e812-1d3f-4bf5-8cec-8131e48c767b",
   "metadata": {},
   "outputs": [],
   "source": []
  },
  {
   "cell_type": "code",
   "execution_count": null,
   "id": "5e9f4d3b-b5db-403f-bd09-cbdf1ae907e6",
   "metadata": {},
   "outputs": [],
   "source": []
  }
 ],
 "metadata": {
  "kernelspec": {
   "display_name": "Python 3 (ipykernel)",
   "language": "python",
   "name": "python3"
  },
  "language_info": {
   "codemirror_mode": {
    "name": "ipython",
    "version": 3
   },
   "file_extension": ".py",
   "mimetype": "text/x-python",
   "name": "python",
   "nbconvert_exporter": "python",
   "pygments_lexer": "ipython3",
   "version": "3.12.4"
  }
 },
 "nbformat": 4,
 "nbformat_minor": 5
}
